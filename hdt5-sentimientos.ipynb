{
 "cells": [
  {
   "cell_type": "code",
   "execution_count": 31,
   "metadata": {},
   "outputs": [],
   "source": [
    "import pandas as pd\n",
    "from vaderSentiment.vaderSentiment import SentimentIntensityAnalyzer\n",
    "import numpy as np"
   ]
  },
  {
   "cell_type": "code",
   "execution_count": 32,
   "metadata": {},
   "outputs": [
    {
     "data": {
      "text/html": [
       "<div>\n",
       "<style scoped>\n",
       "    .dataframe tbody tr th:only-of-type {\n",
       "        vertical-align: middle;\n",
       "    }\n",
       "\n",
       "    .dataframe tbody tr th {\n",
       "        vertical-align: top;\n",
       "    }\n",
       "\n",
       "    .dataframe thead th {\n",
       "        text-align: right;\n",
       "    }\n",
       "</style>\n",
       "<table border=\"1\" class=\"dataframe\">\n",
       "  <thead>\n",
       "    <tr style=\"text-align: right;\">\n",
       "      <th></th>\n",
       "      <th>id</th>\n",
       "      <th>keyword</th>\n",
       "      <th>location</th>\n",
       "      <th>text</th>\n",
       "      <th>target</th>\n",
       "    </tr>\n",
       "  </thead>\n",
       "  <tbody>\n",
       "    <tr>\n",
       "      <th>0</th>\n",
       "      <td>1</td>\n",
       "      <td>NaN</td>\n",
       "      <td>NaN</td>\n",
       "      <td>our deeds are the reason of this  may allah fo...</td>\n",
       "      <td>1</td>\n",
       "    </tr>\n",
       "    <tr>\n",
       "      <th>1</th>\n",
       "      <td>4</td>\n",
       "      <td>NaN</td>\n",
       "      <td>NaN</td>\n",
       "      <td>forest fire near la ronge sask canada</td>\n",
       "      <td>1</td>\n",
       "    </tr>\n",
       "    <tr>\n",
       "      <th>2</th>\n",
       "      <td>5</td>\n",
       "      <td>NaN</td>\n",
       "      <td>NaN</td>\n",
       "      <td>all residents asked to shelter in place are be...</td>\n",
       "      <td>1</td>\n",
       "    </tr>\n",
       "    <tr>\n",
       "      <th>3</th>\n",
       "      <td>6</td>\n",
       "      <td>NaN</td>\n",
       "      <td>NaN</td>\n",
       "      <td>people receive  evacuation orders in california</td>\n",
       "      <td>1</td>\n",
       "    </tr>\n",
       "    <tr>\n",
       "      <th>4</th>\n",
       "      <td>7</td>\n",
       "      <td>NaN</td>\n",
       "      <td>NaN</td>\n",
       "      <td>just got sent this photo from ruby  as smoke f...</td>\n",
       "      <td>1</td>\n",
       "    </tr>\n",
       "  </tbody>\n",
       "</table>\n",
       "</div>"
      ],
      "text/plain": [
       "   id keyword location                                               text  \\\n",
       "0   1     NaN      NaN  our deeds are the reason of this  may allah fo...   \n",
       "1   4     NaN      NaN              forest fire near la ronge sask canada   \n",
       "2   5     NaN      NaN  all residents asked to shelter in place are be...   \n",
       "3   6     NaN      NaN   people receive  evacuation orders in california    \n",
       "4   7     NaN      NaN  just got sent this photo from ruby  as smoke f...   \n",
       "\n",
       "   target  \n",
       "0       1  \n",
       "1       1  \n",
       "2       1  \n",
       "3       1  \n",
       "4       1  "
      ]
     },
     "execution_count": 32,
     "metadata": {},
     "output_type": "execute_result"
    }
   ],
   "source": [
    "df = pd.read_csv('data/tokenized_clean.csv')\n",
    "df.drop(columns=['Unnamed: 0'], inplace=True)\n",
    "df.replace(to_replace=r\"\\[|\\]|\\' \", value='', inplace=True, regex=True)\n",
    "df.head()"
   ]
  },
  {
   "cell_type": "code",
   "execution_count": 33,
   "metadata": {},
   "outputs": [
    {
     "data": {
      "text/html": [
       "<div>\n",
       "<style scoped>\n",
       "    .dataframe tbody tr th:only-of-type {\n",
       "        vertical-align: middle;\n",
       "    }\n",
       "\n",
       "    .dataframe tbody tr th {\n",
       "        vertical-align: top;\n",
       "    }\n",
       "\n",
       "    .dataframe thead th {\n",
       "        text-align: right;\n",
       "    }\n",
       "</style>\n",
       "<table border=\"1\" class=\"dataframe\">\n",
       "  <thead>\n",
       "    <tr style=\"text-align: right;\">\n",
       "      <th></th>\n",
       "      <th>id</th>\n",
       "      <th>keyword</th>\n",
       "      <th>location</th>\n",
       "      <th>text</th>\n",
       "      <th>target</th>\n",
       "      <th>polar</th>\n",
       "    </tr>\n",
       "  </thead>\n",
       "  <tbody>\n",
       "    <tr>\n",
       "      <th>0</th>\n",
       "      <td>1</td>\n",
       "      <td>NaN</td>\n",
       "      <td>NaN</td>\n",
       "      <td>our deeds are the reason of this  may allah fo...</td>\n",
       "      <td>1</td>\n",
       "      <td>0.2732</td>\n",
       "    </tr>\n",
       "    <tr>\n",
       "      <th>1</th>\n",
       "      <td>4</td>\n",
       "      <td>NaN</td>\n",
       "      <td>NaN</td>\n",
       "      <td>forest fire near la ronge sask canada</td>\n",
       "      <td>1</td>\n",
       "      <td>-0.3400</td>\n",
       "    </tr>\n",
       "    <tr>\n",
       "      <th>2</th>\n",
       "      <td>5</td>\n",
       "      <td>NaN</td>\n",
       "      <td>NaN</td>\n",
       "      <td>all residents asked to shelter in place are be...</td>\n",
       "      <td>1</td>\n",
       "      <td>-0.2960</td>\n",
       "    </tr>\n",
       "    <tr>\n",
       "      <th>3</th>\n",
       "      <td>6</td>\n",
       "      <td>NaN</td>\n",
       "      <td>NaN</td>\n",
       "      <td>people receive  evacuation orders in california</td>\n",
       "      <td>1</td>\n",
       "      <td>0.0000</td>\n",
       "    </tr>\n",
       "    <tr>\n",
       "      <th>4</th>\n",
       "      <td>7</td>\n",
       "      <td>NaN</td>\n",
       "      <td>NaN</td>\n",
       "      <td>just got sent this photo from ruby  as smoke f...</td>\n",
       "      <td>1</td>\n",
       "      <td>0.0000</td>\n",
       "    </tr>\n",
       "  </tbody>\n",
       "</table>\n",
       "</div>"
      ],
      "text/plain": [
       "   id keyword location                                               text  \\\n",
       "0   1     NaN      NaN  our deeds are the reason of this  may allah fo...   \n",
       "1   4     NaN      NaN              forest fire near la ronge sask canada   \n",
       "2   5     NaN      NaN  all residents asked to shelter in place are be...   \n",
       "3   6     NaN      NaN   people receive  evacuation orders in california    \n",
       "4   7     NaN      NaN  just got sent this photo from ruby  as smoke f...   \n",
       "\n",
       "   target   polar  \n",
       "0       1  0.2732  \n",
       "1       1 -0.3400  \n",
       "2       1 -0.2960  \n",
       "3       1  0.0000  \n",
       "4       1  0.0000  "
      ]
     },
     "execution_count": 33,
     "metadata": {},
     "output_type": "execute_result"
    }
   ],
   "source": [
    "analyzer = SentimentIntensityAnalyzer()\n",
    "df['polar'] = np.array([analyzer.polarity_scores(i)['compound'] for i in df['text']], dtype=np.float32)\n",
    "df.head()"
   ]
  },
  {
   "cell_type": "code",
   "execution_count": 76,
   "metadata": {},
   "outputs": [
    {
     "data": {
      "text/plain": [
       "False"
      ]
     },
     "execution_count": 76,
     "metadata": {},
     "output_type": "execute_result"
    }
   ],
   "source": [
    "df['polar'].isnull().values.any()"
   ]
  },
  {
   "cell_type": "code",
   "execution_count": 73,
   "metadata": {},
   "outputs": [
    {
     "name": "stdout",
     "output_type": "stream",
     "text": [
      "1: 0\tcheck out want twister tickets and a vip experience to see shania click here at  \n",
      "i would love love love to win\n",
      "2: 0\t i feel like accidents are just drawn to you but im happy youve survived all of them hope youre okay\n",
      "3: 1\ttodayûªs storm will pass let tomorrowûªs light greet you with a kiss bask in this loving warmth let your soul return to bliss\n",
      "4: 0\t we enjoyed the show today great fun the emergency non evacuation was interesting have a great run\n",
      "5: 0\t we enjoyed the show today great fun the emergency non evacuation was interesting have a great run\n",
      "6: 0\tmaaaaan i love love without tragedy by  i wish she made the whole song\n",
      "7: 0\tim not a drake fan but i enjoy seeing him bodybagging people great marketing lol\n",
      "8: 0\t pets r like part of the family i love animals the last  pets i had i rescued breaks my heart when animals are mistreated\n",
      "9: 0\t  ppl got method of meditation in up ampgot deluge of divine blessing  happy n peaceful life \n",
      "10: 0\tfree ebay sniping rt  lumbar extender back stretcher excellent condition please favorite amp share\n"
     ]
    }
   ],
   "source": [
    "for i, (text, target) in enumerate(zip(df.sort_values(by='polar', ascending=False)['text'].head(10), \n",
    "df.sort_values(by='polar', ascending=False)['target'].head(10))):\n",
    "    print(f'{i+1}: {target}\\t{text}')"
   ]
  },
  {
   "cell_type": "code",
   "execution_count": 74,
   "metadata": {},
   "outputs": [
    {
     "name": "stdout",
     "output_type": "stream",
     "text": [
      "1: 0\twreck wreck wreck wreck wreck wreck wreck wreck wreck wreck wreck wreck wreck\n",
      "2: 1\t suicide bomber targets saudi mosque at least  dead  suicide bomber targets saudi mosque at least  dead\n",
      "this is ridiculous\n",
      "3: 1\tsuicide bomber kills  in saudi security site mosque  a suicide bomber killed at least  people in an attack on \n",
      "4: 1\t th day since jul  nigeria suicide bomb attacks killed  people blamed boko haram la timesap  \n",
      "5: 1\t killed in sûªarabia mosque suicide bombing\n",
      "\n",
      "a suicide bomber attacked a mosque in aseer southwestern saudi \n",
      "6: 1\tillegal alien released by obamadhs  times charged with rape amp murder of santa maria ca woman had prior offenses  \n",
      "7: 1\tbomb crash loot riot emergency pipe bomb nuclear chemical spill gas ricin leak violence drugs cartel cocaine marijuana heroine kidnap bust\n",
      "8: 1\t  mr president you are the biggest terrorist and trouble maker in the world you create terrorist you sponsor terrorist\n",
      "9: 0\tat the lake \n",
      "sees a dead fish\n",
      "me poor little guy i wonder what happened\n",
      "ashley idk maybe it drowned\n",
      "  wtf \n",
      "10: 1\tbomb head explosive decisions dat produced more dead children than dead bodies trapped tween buildings on that day in september there\n"
     ]
    }
   ],
   "source": [
    "for i, (text, target) in enumerate(zip(df.sort_values(by='polar')['text'].head(10), \n",
    "df.sort_values(by='polar')['target'].head(10))):\n",
    "    print(f'{i+1}: {target}\\t{text}')"
   ]
  },
  {
   "cell_type": "code",
   "execution_count": 91,
   "metadata": {},
   "outputs": [
    {
     "name": "stdout",
     "output_type": "stream",
     "text": [
      "Promedio polaridad de accidentes:\t-0.26433834433555603\n"
     ]
    }
   ],
   "source": [
    "print(f\"Promedio polaridad de accidentes:\\t{np.mean(df.where(df['target'] == 1)['polar'])}\")"
   ]
  },
  {
   "cell_type": "code",
   "execution_count": 92,
   "metadata": {},
   "outputs": [
    {
     "name": "stdout",
     "output_type": "stream",
     "text": [
      "Promedio polaridad de no accidentes:\t-0.05642913281917572\n"
     ]
    }
   ],
   "source": [
    "print(f\"Promedio polaridad de no accidentes:\\t{np.mean(df.where(df['target'] == 0)['polar'])}\")"
   ]
  },
  {
   "cell_type": "markdown",
   "metadata": {},
   "source": [
    "La categoría de accidentes tiene un promedio menor que el de la no accidentes. Esta métrica es válida porque los valores polares ya están normalizados."
   ]
  }
 ],
 "metadata": {
  "kernelspec": {
   "display_name": "Python 3.10.6 64-bit (microsoft store)",
   "language": "python",
   "name": "python3"
  },
  "language_info": {
   "codemirror_mode": {
    "name": "ipython",
    "version": 3
   },
   "file_extension": ".py",
   "mimetype": "text/x-python",
   "name": "python",
   "nbconvert_exporter": "python",
   "pygments_lexer": "ipython3",
   "version": "3.10.6"
  },
  "orig_nbformat": 4,
  "vscode": {
   "interpreter": {
    "hash": "0dd6fa3abc8b5e7149b352393c5164f57b1cec79d3e0f994a3fd8126332678a6"
   }
  }
 },
 "nbformat": 4,
 "nbformat_minor": 2
}
